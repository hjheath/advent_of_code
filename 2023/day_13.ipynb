{
 "cells": [
  {
   "cell_type": "code",
   "execution_count": 55,
   "id": "cbf091cf-eff0-44e7-84ad-74a4be9bdbb1",
   "metadata": {},
   "outputs": [
    {
     "data": {
      "text/plain": [
       "33122"
      ]
     },
     "execution_count": 55,
     "metadata": {},
     "output_type": "execute_result"
    }
   ],
   "source": [
    "test = \"\"\"\n",
    "#.##..##.\n",
    "..#.##.#.\n",
    "##......#\n",
    "##......#\n",
    "..#.##.#.\n",
    "..##..##.\n",
    "#.#.##.#.\n",
    "\n",
    "#...##..#\n",
    "#....#..#\n",
    "..##..###\n",
    "#####.##.\n",
    "#####.##.\n",
    "..##..###\n",
    "#....#..#\n",
    "\"\"\"\n",
    "\n",
    "def find_horizontal_symmetry(grid):\n",
    "    length = len(grid)\n",
    "    for index, line in enumerate(grid):\n",
    "        # We got to the last line so no symmetry\n",
    "        if index == length - 1:\n",
    "            return 0\n",
    "            \n",
    "        rows_to_check = min(index + 1, length - index - 1)\n",
    "        for x in range(rows_to_check):\n",
    "            if grid[index - x] != grid[index + x + 1]:\n",
    "                break\n",
    "        else:\n",
    "            return index + 1\n",
    "\n",
    "def transpose_matrix(matrix):\n",
    "    return list(map(list, zip(*matrix)))\n",
    "\n",
    "def find_vertical_symmetry(grid):\n",
    "    transposed_grid = transpose_matrix(grid)\n",
    "    return find_horizontal_symmetry(transposed_grid)\n",
    "\n",
    "# data = test.strip().split('\\n\\n')\n",
    "# grids = [grid.splitlines() for grid in data]\n",
    "\n",
    "file_path = 'day_13_input.txt'\n",
    "with open(file_path, 'r') as file:\n",
    "    data = file.read().split('\\n\\n')\n",
    "    grids = [grid.splitlines() for grid in data]\n",
    "    \n",
    "vertical_counts = [find_vertical_symmetry(grid) for grid in grids if find_vertical_symmetry(grid)]\n",
    "horizontal_counts = [find_horizontal_symmetry(grid) for grid in grids if find_horizontal_symmetry(grid)]\n",
    "\n",
    "sum(horizontal_counts) * 100 + sum(vertical_counts)"
   ]
  },
  {
   "cell_type": "code",
   "execution_count": 104,
   "id": "f7ce415a-ea47-477d-910d-1768b869385b",
   "metadata": {},
   "outputs": [
    {
     "data": {
      "text/plain": [
       "32312"
      ]
     },
     "execution_count": 104,
     "metadata": {},
     "output_type": "execute_result"
    }
   ],
   "source": [
    "def find_horizontal_symmetry(grid, existing=None):\n",
    "    length = len(grid)\n",
    "    for index, line in enumerate(grid):\n",
    "        # We got to the last line so no symmetry\n",
    "        if index == length - 1:\n",
    "            return 0\n",
    "            \n",
    "        rows_to_check = min(index + 1, length - index - 1)\n",
    "        for x in range(rows_to_check):\n",
    "            if grid[index - x] != grid[index + x + 1]:\n",
    "                break\n",
    "        else:\n",
    "            result = index + 1\n",
    "            if existing != result:\n",
    "                return result\n",
    "\n",
    "def transpose_matrix(matrix):\n",
    "    return list(map(list, zip(*matrix)))\n",
    "\n",
    "def find_vertical_symmetry(grid, existing=None):\n",
    "    transposed_grid = transpose_matrix(grid)\n",
    "    return find_horizontal_symmetry(transposed_grid, existing)\n",
    "\n",
    "\n",
    "def process_grid(grid):\n",
    "    existing_vertical = find_vertical_symmetry(grid)\n",
    "    existing_horizontal = find_horizontal_symmetry(grid)\n",
    "    for y, row in enumerate(grid):\n",
    "        for x, char in enumerate(row):\n",
    "            dot = False\n",
    "            if char == '.':\n",
    "                dot = True\n",
    "                grid[y] = grid[y][:x] + '#' + grid[y][x + 1:]\n",
    "            elif char == '#':\n",
    "                grid[y] = grid[y][:x] + '.' + grid[y][x + 1:]\n",
    "\n",
    "            vertical = find_vertical_symmetry(grid, existing_vertical)\n",
    "            if vertical:\n",
    "                return vertical\n",
    "\n",
    "            horizontal = find_horizontal_symmetry(grid, existing_horizontal)\n",
    "            if horizontal:\n",
    "                return horizontal * 100\n",
    "\n",
    "            # Put the grid back\n",
    "            if dot:\n",
    "                grid[y] = grid[y][:x] + '.' + grid[y][x + 1:]\n",
    "            else:\n",
    "                grid[y] = grid[y][:x] + '#' + grid[y][x + 1:]\n",
    "\n",
    "\n",
    "# data = test.strip().split('\\n\\n')\n",
    "# grids = [grid.splitlines() for grid in data]\n",
    "\n",
    "file_path = 'day_13_input.txt'\n",
    "with open(file_path, 'r') as file:\n",
    "    data = file.read().split('\\n\\n')\n",
    "    grids = [grid.splitlines() for grid in data]\n",
    "\n",
    "output = [process_grid(grid) for grid in grids]\n",
    "sum(output)"
   ]
  }
 ],
 "metadata": {
  "kernelspec": {
   "display_name": "Python 3 (ipykernel)",
   "language": "python",
   "name": "python3"
  },
  "language_info": {
   "codemirror_mode": {
    "name": "ipython",
    "version": 3
   },
   "file_extension": ".py",
   "mimetype": "text/x-python",
   "name": "python",
   "nbconvert_exporter": "python",
   "pygments_lexer": "ipython3",
   "version": "3.12.1"
  }
 },
 "nbformat": 4,
 "nbformat_minor": 5
}
