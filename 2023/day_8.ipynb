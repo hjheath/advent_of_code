{
 "cells": [
  {
   "cell_type": "code",
   "execution_count": 39,
   "id": "f7091c7f-fc19-4f00-911f-867a1dde079a",
   "metadata": {},
   "outputs": [
    {
     "data": {
      "text/plain": [
       "'LLRLRRRLLRRRLRRLRRLRLRRRLRRRLRLLRLRRLRRLRLLRRLRRRLRRLRLRLRLRRRLRRLRLLLRRLRRRLLLRLRRRLRRRLLRRLRRRLRLRRRLLLRRLLRRLRRLLLRRRLRRRLRRRLRRLLRLRLRLRRRLRLRLRRLRRLRLRRRLRRLRRRLRRRLLLRLRRLRRLRLLRRLLRRLRRLLRLRRLRRLRLRLLLRLLRRLRRLRRRLLRRLLRRRLRRLRRRLRRRLLRRRLRRRLLRRRLRLRLLRRLRLRLRRRR'"
      ]
     },
     "execution_count": 39,
     "metadata": {},
     "output_type": "execute_result"
    }
   ],
   "source": [
    "test = \"\"\"\n",
    "RL\n",
    "\n",
    "AAA = (BBB, CCC)\n",
    "BBB = (DDD, EEE)\n",
    "CCC = (ZZZ, GGG)\n",
    "DDD = (DDD, DDD)\n",
    "EEE = (EEE, EEE)\n",
    "GGG = (GGG, GGG)\n",
    "ZZZ = (ZZZ, ZZZ)\n",
    "\"\"\"\n",
    "\n",
    "test2 = \"\"\"\n",
    "LLR\n",
    "\n",
    "AAA = (BBB, BBB)\n",
    "BBB = (AAA, ZZZ)\n",
    "ZZZ = (ZZZ, ZZZ)\n",
    "\"\"\"\n",
    "\n",
    "# data = [line for line in test2.strip().splitlines() if line]\n",
    "\n",
    "file_path = 'day_8_input.txt'\n",
    "with open(file_path, 'r') as file:\n",
    "    data = [line.strip() for line in file if line.strip()]\n",
    "\n",
    "instructions = data[0]\n",
    "\n",
    "def parse_line(line):\n",
    "    key, values = line.split('=')\n",
    "    key = key.strip()\n",
    "    values = values.strip(' ()')\n",
    "    l_value, r_value = values.split(', ')\n",
    "    value_map = {'L': l_value, 'R': r_value}\n",
    "    return key, value_map\n",
    "\n",
    "element_map = {parse_line(line)[0]: parse_line(line)[1] for line in data[1:]}\n",
    "\n",
    "instructions"
   ]
  },
  {
   "cell_type": "code",
   "execution_count": 41,
   "id": "6cef1d6a-075e-4564-b7c8-36406bf993aa",
   "metadata": {},
   "outputs": [
    {
     "data": {
      "text/plain": [
       "16531"
      ]
     },
     "execution_count": 41,
     "metadata": {},
     "output_type": "execute_result"
    }
   ],
   "source": [
    "element = 'AAA'\n",
    "\n",
    "def loop_instructions(instructions):\n",
    "    length = len(instructions)\n",
    "    index = 0\n",
    "    while True:\n",
    "        yield instructions[index % length]\n",
    "        index += 1\n",
    "\n",
    "generator = loop_instructions(instructions)\n",
    "\n",
    "count = 0\n",
    "\n",
    "while element != 'ZZZ':\n",
    "    count += 1\n",
    "    instruction = next(generator)\n",
    "    element = element_map[element][instruction]\n",
    "\n",
    "count"
   ]
  },
  {
   "cell_type": "code",
   "execution_count": 62,
   "id": "c89f751b-2d8a-48d9-ba22-4daeb5b40613",
   "metadata": {},
   "outputs": [
    {
     "name": "stdout",
     "output_type": "stream",
     "text": [
      "['RFZ', 'KPZ', 'GNZ', 'TMZ', 'ZZZ', 'BDZ']\n",
      "MLA\n",
      "19241 KPZ\n",
      "BQA\n",
      "18157 BDZ\n",
      "MJA\n",
      "19783 GNZ\n",
      "AAA\n",
      "16531 ZZZ\n",
      "TGA\n",
      "21409 RFZ\n",
      "BJA\n",
      "14363 TMZ\n",
      "=========\n",
      "RFZ\n",
      "21409 RFZ\n",
      "KPZ\n",
      "19241 KPZ\n",
      "GNZ\n",
      "19783 GNZ\n",
      "TMZ\n",
      "14363 TMZ\n",
      "ZZZ\n",
      "16531 ZZZ\n",
      "BDZ\n",
      "18157 BDZ\n"
     ]
    },
    {
     "data": {
      "text/plain": [
       "24035773251517"
      ]
     },
     "execution_count": 62,
     "metadata": {},
     "output_type": "execute_result"
    }
   ],
   "source": [
    "test3 = \"\"\"\n",
    "LR\n",
    "\n",
    "11A = (11B, XXX)\n",
    "11B = (XXX, 11Z)\n",
    "11Z = (11B, XXX)\n",
    "22A = (22B, XXX)\n",
    "22B = (22C, 22C)\n",
    "22C = (22Z, 22Z)\n",
    "22Z = (22B, 22B)\n",
    "XXX = (XXX, XXX)\n",
    "\"\"\"\n",
    "\n",
    "# data = [line for line in test3.strip().splitlines() if line]\n",
    "\n",
    "file_path = 'day_8_input.txt'\n",
    "with open(file_path, 'r') as file:\n",
    "    data = [line.strip() for line in file if line.strip()]\n",
    "\n",
    "instructions = data[0]\n",
    "element_map = {parse_line(line)[0]: parse_line(line)[1] for line in data[1:]}\n",
    "\n",
    "elements = [element for element in element_map.keys() if element.endswith('A')]\n",
    "\n",
    "z_elements = [element for element in element_map.keys() if element.endswith('Z')]\n",
    "\n",
    "print(z_elements)\n",
    "\n",
    "\n",
    "generator = loop_instructions(instructions)\n",
    "\n",
    "counts = []\n",
    "\n",
    "for element in elements:\n",
    "    print(element)\n",
    "    count = 0\n",
    "\n",
    "    while not element.endswith('Z'):\n",
    "        count += 1\n",
    "        instruction = next(generator)\n",
    "        element = element_map[element][instruction]\n",
    "\n",
    "    counts.append(count)\n",
    "    print(count, element)\n",
    "\n",
    "print('=========')\n",
    "\n",
    "for element in z_elements:\n",
    "    print(element)\n",
    "    count = 0\n",
    "\n",
    "    while not element.endswith('Z') or count == 0:\n",
    "        count += 1\n",
    "        instruction = next(generator)\n",
    "        element = element_map[element][instruction]\n",
    "\n",
    "    print(count, element)\n",
    "\n",
    "\n",
    "import math\n",
    "\n",
    "# Calculate LCM using math.lcm()\n",
    "lcm_result = math.lcm(*counts)\n",
    "lcm_result"
   ]
  }
 ],
 "metadata": {
  "kernelspec": {
   "display_name": "Python 3 (ipykernel)",
   "language": "python",
   "name": "python3"
  },
  "language_info": {
   "codemirror_mode": {
    "name": "ipython",
    "version": 3
   },
   "file_extension": ".py",
   "mimetype": "text/x-python",
   "name": "python",
   "nbconvert_exporter": "python",
   "pygments_lexer": "ipython3",
   "version": "3.12.1"
  }
 },
 "nbformat": 4,
 "nbformat_minor": 5
}
