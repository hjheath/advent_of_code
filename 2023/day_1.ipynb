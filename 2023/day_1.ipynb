{
 "cells": [
  {
   "cell_type": "code",
   "execution_count": 97,
   "id": "6b6df7f8-896d-43c0-8573-6c6f36ca7fbc",
   "metadata": {},
   "outputs": [
    {
     "data": {
      "text/plain": [
       "55447"
      ]
     },
     "execution_count": 97,
     "metadata": {},
     "output_type": "execute_result"
    }
   ],
   "source": [
    "import re\n",
    "\n",
    "def get_first_digit_regex(text):\n",
    "    match = re.search(r'\\d', text)\n",
    "    if match:\n",
    "        return match.group()\n",
    "    raise RuntimeError(f\"No first digit found in {text}\")\n",
    "\n",
    "def get_last_digit_regex(text):\n",
    "    match = re.search(r'\\d', text[::-1])\n",
    "    if match:\n",
    "        return match.group()\n",
    "    raise RuntimeError(f\"No final digit found in {text}\")\n",
    "\n",
    "def get_calibration_value(text):\n",
    "    first_digit = get_first_digit_regex(text)\n",
    "    last_digit = get_last_digit_regex(text)\n",
    "    return int(f'{first_digit}{last_digit}')\n",
    "    \n",
    "\n",
    "file_path = 'day_1_input.txt'\n",
    "with open(file_path, 'r') as file:\n",
    "    values = [get_calibration_value(line.strip()) for line in file]\n",
    "\n",
    "sum(values)    "
   ]
  },
  {
   "cell_type": "code",
   "execution_count": 98,
   "id": "84ccddf8-c0fe-477f-960e-31a66a7f08a7",
   "metadata": {},
   "outputs": [
    {
     "data": {
      "text/plain": [
       "54706"
      ]
     },
     "execution_count": 98,
     "metadata": {},
     "output_type": "execute_result"
    }
   ],
   "source": [
    "REGEX = r'(?=(\\d|one|two|three|four|five|six|seven|eight|nine))'\n",
    "\n",
    "word_to_number = {\n",
    "    \"one\": 1,\n",
    "    \"two\": 2,\n",
    "    \"three\": 3,\n",
    "    \"four\": 4,\n",
    "    \"five\": 5,\n",
    "    \"six\": 6,\n",
    "    \"seven\": 7,\n",
    "    \"eight\": 8,\n",
    "    \"nine\": 9\n",
    "}\n",
    "\n",
    "def get_first_digit(text):\n",
    "    match = re.search(REGEX, text)\n",
    "    if match:\n",
    "        return word_to_number.get(match.group(1), match.group(1))\n",
    "    raise RuntimeError(f\"No first digit found in {text}\")\n",
    "\n",
    "def get_last_digit(text):\n",
    "    matches = re.finditer(REGEX, text)\n",
    "    match = list(matches)[-1]\n",
    "    if match:\n",
    "        return word_to_number.get(match.group(1), match.group(1))\n",
    "    raise RuntimeError(f\"No final digit found in {text}\")\n",
    "\n",
    "def calibration_value(text):\n",
    "    first_digit = get_first_digit(text)\n",
    "    last_digit = get_last_digit(text)\n",
    "    return int(f'{first_digit}{last_digit}')\n",
    "    \n",
    "\n",
    "file_path = 'day_1_input.txt'  # Replace with the path to your file\n",
    "with open(file_path, 'r') as file:\n",
    "    values = [calibration_value(line.strip()) for line in file]\n",
    "\n",
    "sum(values)"
   ]
  }
 ],
 "metadata": {
  "kernelspec": {
   "display_name": "Python 3 (ipykernel)",
   "language": "python",
   "name": "python3"
  },
  "language_info": {
   "codemirror_mode": {
    "name": "ipython",
    "version": 3
   },
   "file_extension": ".py",
   "mimetype": "text/x-python",
   "name": "python",
   "nbconvert_exporter": "python",
   "pygments_lexer": "ipython3",
   "version": "3.12.1"
  }
 },
 "nbformat": 4,
 "nbformat_minor": 5
}
