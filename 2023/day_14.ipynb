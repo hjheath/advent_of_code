{
 "cells": [
  {
   "cell_type": "code",
   "execution_count": 4,
   "id": "ed3076f3-6c9b-4db1-8b3d-83d5ebbd5176",
   "metadata": {},
   "outputs": [
    {
     "data": {
      "text/plain": [
       "105461"
      ]
     },
     "execution_count": 4,
     "metadata": {},
     "output_type": "execute_result"
    }
   ],
   "source": [
    "test = \"\"\"\n",
    "O....#....\n",
    "O.OO#....#\n",
    ".....##...\n",
    "OO.#O....O\n",
    ".O.....O#.\n",
    "O.#..O.#.#\n",
    "..O..#O..O\n",
    ".......O..\n",
    "#....###..\n",
    "#OO..#....\n",
    "\"\"\"\n",
    "\n",
    "def move_line_up(data, index):\n",
    "    line = data[index]\n",
    "    line_above = data[index - 1]\n",
    "    new_line = ''\n",
    "    new_line_above = ''\n",
    "    for char, char_above in zip(line, line_above):\n",
    "        if char == 'O' and char_above == '.':\n",
    "            new_line += '.'\n",
    "            new_line_above += char\n",
    "        else:\n",
    "            new_line += char\n",
    "            new_line_above += char_above\n",
    "    \n",
    "    data[index] = new_line\n",
    "    data[index - 1] = new_line_above\n",
    "    return data\n",
    "\n",
    "# data = [line for line in test.strip().splitlines()]\n",
    "\n",
    "file_path = 'day_14_input.txt'\n",
    "with open(file_path, 'r') as file:\n",
    "    data = [line.strip() for line in file]\n",
    "\n",
    "for index, line in enumerate(data):\n",
    "    for x in range(index):\n",
    "        data = move_line_up(data, index - x)\n",
    "\n",
    "load = 0\n",
    "row_count = len(data)\n",
    "\n",
    "for index, line in enumerate(data):\n",
    "    load += (row_count - index) * line.count('O')\n",
    "\n",
    "load"
   ]
  },
  {
   "cell_type": "code",
   "execution_count": 101,
   "id": "88ab1869-b918-4745-bd78-c79049fbe5cd",
   "metadata": {},
   "outputs": [
    {
     "data": {
      "text/plain": [
       "102829"
      ]
     },
     "execution_count": 101,
     "metadata": {},
     "output_type": "execute_result"
    }
   ],
   "source": [
    "def transpose_90_clockwise(matrix):\n",
    "    rows = len(matrix)\n",
    "    cols = len(matrix[0])\n",
    "\n",
    "    # Find the transpose of the matrix\n",
    "    transpose = [[0 for _ in range(rows)] for _ in range(cols)]\n",
    "    for i in range(rows):\n",
    "        for j in range(cols):\n",
    "            transpose[j][rows - 1 - i] = matrix[i][j]\n",
    "\n",
    "    # Convert the transposed matrix to a list of strings\n",
    "    result = [''.join(row) for row in transpose]\n",
    "\n",
    "    return result\n",
    "\n",
    "\n",
    "def tilt(data):\n",
    "    for index, line in enumerate(data):\n",
    "        for x in range(index):\n",
    "            data = move_line_up(data, index - x)\n",
    "    return data\n",
    "\n",
    "def rotate(data):\n",
    "    for _ in range(4):\n",
    "        data = tilt(data)\n",
    "        data = transpose_90_clockwise(data)\n",
    "        \n",
    "    load = 0\n",
    "    row_count = len(data)\n",
    "    for index, line in enumerate(data):\n",
    "        load += (row_count - index) * line.count('O')\n",
    "    return load, data\n",
    "\n",
    "\n",
    "def as_string(data):\n",
    "    return ''.join(data)\n",
    "\n",
    "\n",
    "# data = [line for line in test.strip().splitlines()]\n",
    "\n",
    "file_path = 'day_14_input.txt'\n",
    "with open(file_path, 'r') as file:\n",
    "    data = [line.strip() for line in file]\n",
    "\n",
    "grid_to_iteration = {}\n",
    "loop = {}\n",
    "counter = 0\n",
    "\n",
    "while True:\n",
    "    counter += 1\n",
    "    load, data = rotate(data)\n",
    "    loop[counter] = load\n",
    "    grid_as_string = as_string(data)\n",
    "    if grid_to_iteration.get(grid_as_string):\n",
    "        match_1 = grid_to_iteration.get(grid_as_string)\n",
    "        match_2 = counter\n",
    "        break\n",
    "    else:\n",
    "        grid_to_iteration[grid_as_string] = counter\n",
    "        tracker[grid_as_string] = counter\n",
    "    if counter > 100:\n",
    "        print('too many iterations bailing out')\n",
    "        break\n",
    "        \n",
    "interval = match_2 - match_1\n",
    "modulus = (1_000_000_000 - match_1) % interval\n",
    "index = match_1 + modulus\n",
    "loop[index]"
   ]
  }
 ],
 "metadata": {
  "kernelspec": {
   "display_name": "Python 3 (ipykernel)",
   "language": "python",
   "name": "python3"
  },
  "language_info": {
   "codemirror_mode": {
    "name": "ipython",
    "version": 3
   },
   "file_extension": ".py",
   "mimetype": "text/x-python",
   "name": "python",
   "nbconvert_exporter": "python",
   "pygments_lexer": "ipython3",
   "version": "3.12.1"
  }
 },
 "nbformat": 4,
 "nbformat_minor": 5
}
