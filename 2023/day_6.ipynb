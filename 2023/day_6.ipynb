{
 "cells": [
  {
   "cell_type": "code",
   "execution_count": 11,
   "id": "56d91d9d-17cb-4239-aa84-29d9a2a6d8c5",
   "metadata": {},
   "outputs": [
    {
     "data": {
      "text/plain": [
       "219849"
      ]
     },
     "execution_count": 11,
     "metadata": {},
     "output_type": "execute_result"
    }
   ],
   "source": [
    "test = \"\"\"\n",
    "Time:      7  15   30\n",
    "Distance:  9  40  200\n",
    "\"\"\"\n",
    "test_data = [(7, 9), (15, 40), (30, 200)]\n",
    "\n",
    "real = \"\"\"\n",
    "Time:        44     70     70     80\n",
    "Distance:   283   1134   1134   1491\n",
    "\"\"\"\n",
    "data = [(44, 283), (70, 1134), (70, 1134), (80, 1491)]\n",
    "\n",
    "def calculate(max_time, record):\n",
    "    count = 0\n",
    "    for time in range(1, max_time):\n",
    "        speed = time\n",
    "        remaining_time = max_time - time\n",
    "        distance = speed * remaining_time\n",
    "        if distance > record:\n",
    "            count += 1\n",
    "    return count\n",
    "\n",
    "times = [calculate(*race) for race in data]\n",
    "\n",
    "from functools import reduce\n",
    "\n",
    "# Multiply integers in the list together using reduce()\n",
    "result = reduce(lambda x, y: x * y, times)\n",
    "result"
   ]
  },
  {
   "cell_type": "code",
   "execution_count": 13,
   "id": "69273c88-0c54-4993-862b-29c6c5611c47",
   "metadata": {},
   "outputs": [
    {
     "data": {
      "text/plain": [
       "71503"
      ]
     },
     "execution_count": 13,
     "metadata": {},
     "output_type": "execute_result"
    }
   ],
   "source": [
    "test_data = (71530, 940200)\n",
    "result = calculate(*test_data)\n",
    "result"
   ]
  },
  {
   "cell_type": "code",
   "execution_count": 15,
   "id": "4176921f-a555-468d-955f-ceff6e5fec00",
   "metadata": {},
   "outputs": [
    {
     "data": {
      "text/plain": [
       "29432455"
      ]
     },
     "execution_count": 15,
     "metadata": {},
     "output_type": "execute_result"
    }
   ],
   "source": [
    "data = (44707080, 283113411341491)\n",
    "# A bit slow!\n",
    "result = calculate(*data)\n",
    "result"
   ]
  },
  {
   "cell_type": "code",
   "execution_count": 23,
   "id": "7e280031-f9ba-4339-8155-0b00f4103ae5",
   "metadata": {},
   "outputs": [
    {
     "data": {
      "text/plain": [
       "29432455"
      ]
     },
     "execution_count": 23,
     "metadata": {},
     "output_type": "execute_result"
    }
   ],
   "source": [
    "import math\n",
    "\n",
    "def calculate(max_time, record):\n",
    "    b1 = math.floor((max_time + math.sqrt(max_time ** 2 - 4 * (record+ 1))) / 2)\n",
    "    b2 = math.ceil((max_time - math.sqrt(max_time ** 2 - 4 * (record+ 1))) / 2)\n",
    "\n",
    "    # Add one to include both results\n",
    "    return b1 - b2 + 1\n",
    "\n",
    "calculate(*data)"
   ]
  },
  {
   "cell_type": "code",
   "execution_count": null,
   "id": "89128254-b414-49f5-a01f-9fd83ad5fac5",
   "metadata": {},
   "outputs": [],
   "source": []
  }
 ],
 "metadata": {
  "kernelspec": {
   "display_name": "Python 3 (ipykernel)",
   "language": "python",
   "name": "python3"
  },
  "language_info": {
   "codemirror_mode": {
    "name": "ipython",
    "version": 3
   },
   "file_extension": ".py",
   "mimetype": "text/x-python",
   "name": "python",
   "nbconvert_exporter": "python",
   "pygments_lexer": "ipython3",
   "version": "3.12.1"
  }
 },
 "nbformat": 4,
 "nbformat_minor": 5
}
