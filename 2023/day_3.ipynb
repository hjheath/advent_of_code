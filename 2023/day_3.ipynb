{
 "cells": [
  {
   "cell_type": "code",
   "execution_count": 81,
   "id": "09bc67b5-8295-4e82-a009-0cf4e1fe00b3",
   "metadata": {},
   "outputs": [
    {
     "data": {
      "text/plain": [
       "539713"
      ]
     },
     "execution_count": 81,
     "metadata": {},
     "output_type": "execute_result"
    }
   ],
   "source": [
    "def check_for_neighbours(start, end, j):\n",
    "    for x in range(start - 1, end + 1):\n",
    "        for y in range(j - 1, j + 2):\n",
    "            # Out of range\n",
    "            if x < 0 or y < 0:\n",
    "                continue\n",
    "            if y == j and start <= x < end:\n",
    "                continue\n",
    "            try:\n",
    "                symbol = grid[y][x]\n",
    "            except IndexError:\n",
    "                continue\n",
    "            if is_symbol(symbol):\n",
    "                return True\n",
    "    return False\n",
    "\n",
    "def is_symbol(char):\n",
    "    return char != '.' and not char.isdigit()\n",
    "\n",
    "file_path = 'day_3_input.txt'\n",
    "with open(file_path, 'r') as file:\n",
    "    grid = [line.strip() for line in file]\n",
    "\n",
    "numbers = []\n",
    "\n",
    "for j, row in enumerate(grid):\n",
    "    matches = re.finditer(r'\\d+', row)\n",
    "    for match in matches:\n",
    "        start = match.start()\n",
    "        end = match.end()\n",
    "\n",
    "        if check_for_neighbours(start, end, j):\n",
    "            number = int(match.group())\n",
    "            numbers.append(number)\n",
    "\n",
    "sum(numbers)"
   ]
  },
  {
   "cell_type": "code",
   "execution_count": 82,
   "id": "71ec9264-9e4c-45da-b985-bf657fa267f1",
   "metadata": {},
   "outputs": [
    {
     "data": {
      "text/plain": [
       "84159075"
      ]
     },
     "execution_count": 82,
     "metadata": {},
     "output_type": "execute_result"
    }
   ],
   "source": [
    "test = \"\"\"467..114..\n",
    "...*......\n",
    "..35..633.\n",
    "......#...\n",
    "617*......\n",
    ".....+.58.\n",
    "..592.....\n",
    "......755.\n",
    "...$.*....\n",
    ".664.598..\n",
    "\"\"\"\n",
    "\n",
    "# grid = test.splitlines()\n",
    "\n",
    "from collections import defaultdict\n",
    "\n",
    "def check_for_adjacent_stars(start, end, j):\n",
    "    for x in range(start - 1, end + 1):\n",
    "        for y in range(j - 1, j + 2):\n",
    "            # Out of range\n",
    "            if x < 0 or y < 0:\n",
    "                continue\n",
    "            if y == j and start <= x < end:\n",
    "                continue\n",
    "            try:\n",
    "                symbol = grid[y][x]\n",
    "            except IndexError:\n",
    "                continue\n",
    "            if is_star(symbol):\n",
    "                return (x, y)\n",
    "    return False\n",
    "\n",
    "def is_star(char):\n",
    "    return char == '*'\n",
    "\n",
    "file_path = 'day_3_input.txt'\n",
    "with open(file_path, 'r') as file:\n",
    "    grid = [line.strip() for line in file]\n",
    "\n",
    "stars = defaultdict(list)\n",
    "\n",
    "for j, row in enumerate(grid):\n",
    "    matches = re.finditer(r'\\d+', row)\n",
    "    for match in matches:\n",
    "        start = match.start()\n",
    "        end = match.end()\n",
    "        result = check_for_adjacent_stars(start, end, j)\n",
    "        if result:\n",
    "            x, y = result\n",
    "            number = int(match.group())\n",
    "            stars[x, y].append(number)\n",
    "\n",
    "sum([numbers[0] * numbers[1] for _, numbers in stars.items() if len(numbers) == 2])"
   ]
  }
 ],
 "metadata": {
  "kernelspec": {
   "display_name": "Python 3 (ipykernel)",
   "language": "python",
   "name": "python3"
  },
  "language_info": {
   "codemirror_mode": {
    "name": "ipython",
    "version": 3
   },
   "file_extension": ".py",
   "mimetype": "text/x-python",
   "name": "python",
   "nbconvert_exporter": "python",
   "pygments_lexer": "ipython3",
   "version": "3.12.1"
  }
 },
 "nbformat": 4,
 "nbformat_minor": 5
}
