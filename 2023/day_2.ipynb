{
 "cells": [
  {
   "cell_type": "code",
   "execution_count": 95,
   "id": "0715ab29-56b2-4193-8b93-ed67c3213443",
   "metadata": {},
   "outputs": [
    {
     "data": {
      "text/plain": [
       "2727"
      ]
     },
     "execution_count": 95,
     "metadata": {},
     "output_type": "execute_result"
    }
   ],
   "source": [
    "test = \"\"\"Game 1: 3 blue, 4 red; 1 red, 2 green, 6 blue; 2 green\n",
    "Game 2: 1 blue, 2 green; 3 green, 4 blue, 1 red; 1 green, 1 blue\n",
    "Game 3: 8 green, 6 blue, 20 red; 5 blue, 4 red, 13 green; 5 green, 1 red\n",
    "Game 4: 1 green, 3 red, 6 blue; 3 green, 6 red; 3 green, 15 blue, 14 red\n",
    "Game 5: 6 red, 1 blue, 3 green; 2 blue, 1 red, 2 green\n",
    "\"\"\"\n",
    "\n",
    "\n",
    "from collections import Counter\n",
    "\n",
    "# {\n",
    "#     1: [Counter({'r': 4, 'g': 0, 'b': 3}), Counter({})],\n",
    "#     2: [],\n",
    "# }\n",
    "\n",
    "def totals(result):\n",
    "    counts = result.split(', ')\n",
    "    return {color: int(quantity) for quantity, color in (count.split(' ') for count in counts)}\n",
    "\n",
    "def results(game):\n",
    "    results = game.split(': ')[1].split('; ')\n",
    "    return [Counter(totals(result)) for result in results]\n",
    "\n",
    "file_path = 'day_2_input.txt'\n",
    "with open(file_path, 'r') as file:\n",
    "    games = [results(line.strip()) for line in file]\n",
    "\n",
    "# 12 red cubes, 13 green cubes, and 14 blue cubes\n",
    "maximums = Counter({'red': 12, 'green': 13, 'blue': 14})\n",
    "\n",
    "possibles = []\n",
    "\n",
    "for i, game in enumerate(games, 1):\n",
    "    for result in game:\n",
    "        if any(count > maximums[color] for color, count in result.items()):\n",
    "            break\n",
    "    else:\n",
    "        possibles.append(i)\n",
    "\n",
    "sum(possibles)"
   ]
  },
  {
   "cell_type": "code",
   "execution_count": 94,
   "id": "5bb6a7af-3b3b-4696-a233-b2b12b301cab",
   "metadata": {},
   "outputs": [
    {
     "data": {
      "text/plain": [
       "56580"
      ]
     },
     "execution_count": 94,
     "metadata": {},
     "output_type": "execute_result"
    }
   ],
   "source": [
    "from functools import reduce\n",
    "\n",
    "file_path = 'day_2_input.txt'\n",
    "with open(file_path, 'r') as file:\n",
    "    games = [results(line.strip()) for line in file]\n",
    "\n",
    "def minimum_cubes(game):\n",
    "    # Counter union calculates max count between counters\n",
    "    return reduce(lambda x, y: x | y, game)\n",
    "\n",
    "def power(game):\n",
    "    minimums = minimum_cubes(game)\n",
    "    # Defined as the product of the minimum cubes counter\n",
    "    return reduce(lambda x, y: x * y, minimums.values(), 1)\n",
    "\n",
    "powers = [power(game) for game in games]\n",
    "sum(powers)"
   ]
  }
 ],
 "metadata": {
  "kernelspec": {
   "display_name": "Python 3 (ipykernel)",
   "language": "python",
   "name": "python3"
  },
  "language_info": {
   "codemirror_mode": {
    "name": "ipython",
    "version": 3
   },
   "file_extension": ".py",
   "mimetype": "text/x-python",
   "name": "python",
   "nbconvert_exporter": "python",
   "pygments_lexer": "ipython3",
   "version": "3.12.1"
  }
 },
 "nbformat": 4,
 "nbformat_minor": 5
}
