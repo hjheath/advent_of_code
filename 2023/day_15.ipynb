{
 "cells": [
  {
   "cell_type": "code",
   "execution_count": 14,
   "id": "77990191-5754-4496-8c2b-af996cd162ab",
   "metadata": {},
   "outputs": [
    {
     "data": {
      "text/plain": [
       "504036"
      ]
     },
     "execution_count": 14,
     "metadata": {},
     "output_type": "execute_result"
    }
   ],
   "source": [
    "test = 'HASH'\n",
    "test2 = \"rn=1,cm-,qp=3,cm=2,qp-,pc=4,ot=9,ab=5,pc-,pc=6,ot=7\"\n",
    "\n",
    "# data = test2.split(',')\n",
    "\n",
    "file_path = 'day_15_input.txt'\n",
    "with open(file_path, 'r') as file:\n",
    "    data = file.read().strip().split(',')\n",
    "\n",
    "def HASH(string):\n",
    "    current_value = 0 \n",
    "    for char in string:\n",
    "        current_value += ord(char)\n",
    "        current_value *= 17\n",
    "        current_value %= 256\n",
    "    return current_value\n",
    "\n",
    "sum([HASH(input) for input in data])"
   ]
  },
  {
   "cell_type": "code",
   "execution_count": 33,
   "id": "82fbe849-427b-49d9-aefd-31d182190708",
   "metadata": {},
   "outputs": [
    {
     "data": {
      "text/plain": [
       "295719"
      ]
     },
     "execution_count": 33,
     "metadata": {},
     "output_type": "execute_result"
    }
   ],
   "source": [
    "test2 = \"rn=1,cm-,qp=3,cm=2,qp-,pc=4,ot=9,ab=5,pc-,pc=6,ot=7\"\n",
    "\n",
    "class Hash():\n",
    "    def __init__(self):\n",
    "        self.data = [[] for _ in range(256)]\n",
    "\n",
    "    def read(self, key):\n",
    "        pass\n",
    "\n",
    "    def write(self, key, value):\n",
    "        address = self.HASH(key)\n",
    "        box = self.data[address]\n",
    "        for entry in box:\n",
    "            if entry[0] == key:\n",
    "                entry[1] = value\n",
    "                break\n",
    "        else:\n",
    "            box.append([key, value])\n",
    "\n",
    "    def delete(self, key):\n",
    "        address = self.HASH(key)\n",
    "        box = self.data[address]\n",
    "        for entry in box:\n",
    "            if entry[0] == key:\n",
    "                box.remove(entry)\n",
    "                break\n",
    "\n",
    "    def HASH(self, key):\n",
    "        current_value = 0 \n",
    "        for char in key:\n",
    "            current_value += ord(char)\n",
    "            current_value *= 17\n",
    "            current_value %= 256\n",
    "        return current_value\n",
    "\n",
    "    def total_focusing_power(self):\n",
    "        return sum(self.box_focusing_power(index, box) for index, box in enumerate(self.data, 1))\n",
    "\n",
    "    def box_focusing_power(self, index, box):\n",
    "        return sum(self.entry_focusing_power(index, slot, entry) for slot, entry in enumerate(box, 1))\n",
    "\n",
    "    def entry_focusing_power(self, index, slot, entry):\n",
    "        return index * slot * int(entry[1])\n",
    "\n",
    "def run_instrucrions(data):\n",
    "    my_hash = Hash()\n",
    "    for instruction in data:\n",
    "        if '=' in instruction:\n",
    "            key, value = instruction.split('=')\n",
    "            my_hash.write(key, value)\n",
    "        elif '-' in instruction:\n",
    "            key = instruction.strip('-')\n",
    "            my_hash.delete(key)\n",
    "    \n",
    "    return my_hash\n",
    "\n",
    "# data = test2.split(',')\n",
    "\n",
    "file_path = 'day_15_input.txt'\n",
    "with open(file_path, 'r') as file:\n",
    "    data = file.read().strip().split(',')\n",
    "\n",
    "hash_data = run_instrucrions(data)\n",
    "hash_data.total_focusing_power()"
   ]
  }
 ],
 "metadata": {
  "kernelspec": {
   "display_name": "Python 3 (ipykernel)",
   "language": "python",
   "name": "python3"
  },
  "language_info": {
   "codemirror_mode": {
    "name": "ipython",
    "version": 3
   },
   "file_extension": ".py",
   "mimetype": "text/x-python",
   "name": "python",
   "nbconvert_exporter": "python",
   "pygments_lexer": "ipython3",
   "version": "3.12.1"
  }
 },
 "nbformat": 4,
 "nbformat_minor": 5
}
