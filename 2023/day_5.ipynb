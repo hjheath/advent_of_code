{
 "cells": [
  {
   "cell_type": "code",
   "execution_count": 26,
   "id": "123e7272-cce7-4c4d-a3bb-aed4f1456557",
   "metadata": {},
   "outputs": [
    {
     "data": {
      "text/plain": [
       "dict_keys(['seed-to-soil map', 'soil-to-fertilizer map', 'fertilizer-to-water map', 'water-to-light map', 'light-to-temperature map', 'temperature-to-humidity map', 'humidity-to-location map'])"
      ]
     },
     "execution_count": 26,
     "metadata": {},
     "output_type": "execute_result"
    }
   ],
   "source": [
    "file_path = 'day_5_input.txt'\n",
    "with open(file_path, 'r') as file:\n",
    "    seed_data = file.readline()\n",
    "    file.seek(0)\n",
    "    data = file.read()\n",
    "\n",
    "seeds = [int(seed) for seed in seed_data.split(':')[1].strip().split()]\n",
    "\n",
    "def parse(row):\n",
    "    number_lists = row.split(':')[1].split('\\n')\n",
    "    return [list(map(int, item.split())) for item in number_lists if item]\n",
    "\n",
    "maps = {row.split(':')[0]: parse(row) for row in data.split('\\n\\n')[1:]}\n",
    "maps.keys()"
   ]
  },
  {
   "cell_type": "code",
   "execution_count": 27,
   "id": "b0d1e122-1a80-4dd0-b235-06876b84d9eb",
   "metadata": {},
   "outputs": [
    {
     "data": {
      "text/plain": [
       "84470622"
      ]
     },
     "execution_count": 27,
     "metadata": {},
     "output_type": "execute_result"
    }
   ],
   "source": [
    "def process(n, map_rows):\n",
    "    for dest_start, source_start, range_length in map_rows:\n",
    "        if source_start <= n < source_start + range_length:\n",
    "            return dest_start + (n - source_start)\n",
    "\n",
    "    return n\n",
    "\n",
    "locations = []\n",
    "\n",
    "for seed in seeds:\n",
    "    soil = process(seed, maps['seed-to-soil map'])\n",
    "    fertilizer = process(soil, maps['soil-to-fertilizer map'])\n",
    "    water = process(fertilizer, maps['fertilizer-to-water map'])\n",
    "    light = process(water, maps['water-to-light map'])\n",
    "    temp = process(light, maps['light-to-temperature map'])\n",
    "    humidity = process(temp, maps['temperature-to-humidity map'])\n",
    "    location = process(humidity, maps['humidity-to-location map'])\n",
    "    locations.append(location)\n",
    "\n",
    "min(locations)"
   ]
  },
  {
   "cell_type": "code",
   "execution_count": 154,
   "id": "d9fcb0a1-2837-4fee-88f3-bf487141678e",
   "metadata": {},
   "outputs": [
    {
     "data": {
      "text/plain": [
       "26714516"
      ]
     },
     "execution_count": 154,
     "metadata": {},
     "output_type": "execute_result"
    }
   ],
   "source": [
    "test = \"\"\"\n",
    "seeds: 79 14 55 13\n",
    "\n",
    "seed-to-soil map:\n",
    "50 98 2\n",
    "52 50 48\n",
    "\n",
    "soil-to-fertilizer map:\n",
    "0 15 37\n",
    "37 52 2\n",
    "39 0 15\n",
    "\n",
    "fertilizer-to-water map:\n",
    "49 53 8\n",
    "0 11 42\n",
    "42 0 7\n",
    "57 7 4\n",
    "\n",
    "water-to-light map:\n",
    "88 18 7\n",
    "18 25 70\n",
    "\n",
    "light-to-temperature map:\n",
    "45 77 23\n",
    "81 45 19\n",
    "68 64 13\n",
    "\n",
    "temperature-to-humidity map:\n",
    "0 69 1\n",
    "1 0 69\n",
    "\n",
    "humidity-to-location map:\n",
    "60 56 37\n",
    "56 93 4\n",
    "\"\"\"\n",
    "\n",
    "# data = test.strip()\n",
    "# seed_data = data.splitlines()[0]\n",
    "\n",
    "file_path = 'day_5_input.txt'\n",
    "with open(file_path, 'r') as file:\n",
    "    seed_data = file.readline()\n",
    "    file.seek(0)\n",
    "    data = file.read()\n",
    "\n",
    "\n",
    "def generate_seeds(seed_data):\n",
    "    seed_numbers = [int(seed) for seed in seed_data.split(':')[1].strip().split()]\n",
    "    seeds = []\n",
    "    for i in range(0, len(seed_numbers), 2):\n",
    "        start = seed_numbers[i]\n",
    "        end = start + seed_numbers[i + 1]\n",
    "        seeds.append((start, end))\n",
    "    return seeds\n",
    "\n",
    "def parse(row):\n",
    "    number_lists = row.split(':')[1].split('\\n')\n",
    "    return [list(map(int, item.split())) for item in number_lists if item]\n",
    "\n",
    "def process_range(input_range, map_rows, output=None, step=None):\n",
    "    if output is None:\n",
    "        output = []\n",
    "        \n",
    "    input_start, input_end = input_range\n",
    "    for dest_start, source_start, range_length in map_rows:\n",
    "        source_end = source_start + range_length\n",
    "        \n",
    "        # entire range in mapping -> map the entire range\n",
    "        if source_start <= input_start < source_end and input_end < source_end:\n",
    "            output_start = dest_start + (input_start - source_start)\n",
    "            output_end = dest_start + (input_end - source_start)\n",
    "            # print('mapping entire range', (input_start, input_end), (output_start, output_end), (source_start, dest_start), range_length)\n",
    "            output.append((output_start, output_end))\n",
    "            return output\n",
    "\n",
    "        # start in mapping, end not:\n",
    "        elif source_start <= input_start < source_end and input_end >= source_end:\n",
    "            # print('start in mapping, end not', (input_start, source_end - 1), (source_end, input_end), source_start, source_end)\n",
    "            process_range((input_start, source_end - 1), map_rows, output)\n",
    "            process_range((source_end, input_end), map_rows, output)\n",
    "            break\n",
    "\n",
    "        # end in mapping, start not\n",
    "        elif source_start <= input_end < source_end and input_start < source_start:\n",
    "            # print('end in mapping, start not', (input_start, source_start - 1), (source_start, input_end), source_start, source_end)\n",
    "            process_range((input_start, source_start - 1), map_rows, output)\n",
    "            process_range((source_start, input_end), map_rows, output)\n",
    "            break\n",
    "\n",
    "    # Range not in any mapping => keep it as is\n",
    "    else:\n",
    "        # print('doing nothing', input_start, input_end)\n",
    "        output.append((input_start, input_end))    \n",
    "    return output\n",
    "\n",
    "seeds = generate_seeds(seed_data)\n",
    "maps = {row.split(':')[0]: parse(row) for row in data.split('\\n\\n')[1:]}\n",
    "\n",
    "def run(input_ranges, map_rows):\n",
    "    output_ranges = []\n",
    "    for input_range in input_ranges:\n",
    "        result = process_range(input_range, map_rows)\n",
    "        output_ranges.extend(result)\n",
    "\n",
    "    return output_ranges\n",
    "\n",
    "soil = run(seeds, maps['seed-to-soil map'])\n",
    "fertilizer = run(soil, maps['soil-to-fertilizer map'])\n",
    "water = run(fertilizer, maps['fertilizer-to-water map'])\n",
    "light = run(water, maps['water-to-light map'])\n",
    "temp = run(light, maps['light-to-temperature map'])\n",
    "humidity = run(temp, maps['temperature-to-humidity map'])\n",
    "location = run(humidity, maps['humidity-to-location map'])\n",
    "\n",
    "min(location_range[0] for location_range in location)"
   ]
  },
  {
   "cell_type": "code",
   "execution_count": 138,
   "id": "1e310944-fb24-439d-87ca-6381af982e16",
   "metadata": {},
   "outputs": [
    {
     "name": "stdout",
     "output_type": "stream",
     "text": [
      "[(53, 56), (61, 70), (57, 70)]\n"
     ]
    }
   ],
   "source": [
    "result = process_range((57, 70), [[49, 53, 8], [0, 11, 42], [42, 0, 7], [57, 7, 4]], output=None)\n",
    "print(result)\n",
    "\n",
    "\n",
    "# (57, 70) => (53, 56) (61, 70)"
   ]
  },
  {
   "cell_type": "code",
   "execution_count": null,
   "id": "429df34f-fc2c-4d80-a882-6ea8819ff6fd",
   "metadata": {},
   "outputs": [],
   "source": [
    "# seed  soil\n",
    "# 0     0\n",
    "# 1     1\n",
    "# ...   ...\n",
    "# 48    48\n",
    "# 49    49\n",
    "# 50    52\n",
    "# 51    53\n",
    "# 52    54\n",
    "# 53    55\n",
    "# ...   ...\n",
    "# 96    98\n",
    "# 97    99\n",
    "# 98    50\n",
    "# 99    51\n",
    "\n",
    "# (48, 53) => (48, 49), (52, 55)"
   ]
  }
 ],
 "metadata": {
  "kernelspec": {
   "display_name": "Python 3 (ipykernel)",
   "language": "python",
   "name": "python3"
  },
  "language_info": {
   "codemirror_mode": {
    "name": "ipython",
    "version": 3
   },
   "file_extension": ".py",
   "mimetype": "text/x-python",
   "name": "python",
   "nbconvert_exporter": "python",
   "pygments_lexer": "ipython3",
   "version": "3.12.1"
  }
 },
 "nbformat": 4,
 "nbformat_minor": 5
}
