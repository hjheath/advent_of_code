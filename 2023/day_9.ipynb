{
 "cells": [
  {
   "cell_type": "code",
   "execution_count": 40,
   "id": "3e53b8e1-07bc-4367-8fec-1729615f2a08",
   "metadata": {},
   "outputs": [
    {
     "name": "stdout",
     "output_type": "stream",
     "text": [
      "adding 3 to 15\n",
      "done 18\n",
      "adding 6 to 21\n",
      "adding 1 to 27\n",
      "done 28\n",
      "adding 15 to 45\n",
      "adding 6 to 60\n",
      "adding 2 to 66\n",
      "done 68\n"
     ]
    },
    {
     "data": {
      "text/plain": [
       "114"
      ]
     },
     "execution_count": 40,
     "metadata": {},
     "output_type": "execute_result"
    }
   ],
   "source": [
    "test = \"\"\"\n",
    "0 3 6 9 12 15\n",
    "1 3 6 10 15 21\n",
    "10 13 16 21 30 45\n",
    "\"\"\"\n",
    "\n",
    "def parse_line(line):\n",
    "    return [int(n) for n in line.split()]\n",
    "\n",
    "data = [parse_line(line) for line in test.strip().splitlines()]\n",
    "\n",
    "# file_path = 'day_9_input.txt'\n",
    "# with open(file_path, 'r') as file:\n",
    "#     data = [parse_line(line) for line in file]\n",
    "\n",
    "def common_difference(numbers):\n",
    "    diff = [numbers[x] - numbers[x - 1] for x in range(1, len(numbers))]\n",
    "    return diff\n",
    "\n",
    "\n",
    "def next_number(line, running_total=None):\n",
    "    if running_total is None:\n",
    "        running_total = line[-1]\n",
    "        \n",
    "    diffs = common_difference(line)\n",
    "    print('adding', diffs[-1], 'to', running_total)\n",
    "    running_total += diffs[-1]\n",
    "    if len(set(diffs)) == 1:\n",
    "        print('done', running_total)\n",
    "        return running_total\n",
    "    else:\n",
    "        return next_number(diffs, running_total)\n",
    "\n",
    "next_numbers = [next_number(line) for line in data]\n",
    "sum(next_numbers)"
   ]
  },
  {
   "cell_type": "code",
   "execution_count": 83,
   "id": "68a0a37e-b2b6-4d23-a69f-2c6a6d32c25d",
   "metadata": {},
   "outputs": [
    {
     "data": {
      "text/plain": [
       "1089"
      ]
     },
     "execution_count": 83,
     "metadata": {},
     "output_type": "execute_result"
    }
   ],
   "source": [
    "test = \"\"\"\n",
    "0 3 6 9 12 15\n",
    "1 3 6 10 15 21\n",
    "10 13 16 21 30 45\n",
    "\"\"\"\n",
    "\n",
    "def parse_line(line):\n",
    "    return [int(n) for n in line.split()]\n",
    "\n",
    "# data = [parse_line(line) for line in test.strip().splitlines()]\n",
    "\n",
    "file_path = 'day_9_input.txt'\n",
    "with open(file_path, 'r') as file:\n",
    "    data = [parse_line(line) for line in file]\n",
    "\n",
    "def common_difference(numbers):\n",
    "    diff = [numbers[x] - numbers[x - 1] for x in range(1, len(numbers))]\n",
    "    return diff\n",
    "\n",
    "\n",
    "def previous_number(line):\n",
    "    n = line[0]    \n",
    "    diffs = common_difference(line)\n",
    "    \n",
    "    if len(set(diffs)) == 1:\n",
    "        return n - diffs[0]\n",
    "    else:\n",
    "        return n - previous_number(diffs)\n",
    "\n",
    "previous_numbers = [previous_number(line) for line in data]\n",
    "sum(previous_numbers)"
   ]
  },
  {
   "cell_type": "code",
   "execution_count": 82,
   "id": "aae852b5-ecf8-42cb-9604-1c9d8f128ee7",
   "metadata": {},
   "outputs": [],
   "source": [
    "# -3, 0, 5\n",
    "\"\"\"\n",
    "-3   0   3   6   9  12  15  18\n",
    "   3   3   3   3   3   3   3\n",
    "     0   0   0   0   0   0\n",
    "\"\"\"\n",
    "\n",
    "\n",
    "\"\"\"\n",
    "0  1   3   6  10  15  21  28\n",
    " 1   2   3   4   5   6   7\n",
    "   1   1   1   1   1   1\n",
    "      0   0   0   0\n",
    "\"\"\"\n",
    "\"\"\"\n",
    "5  10  13  16  21  30  45\n",
    "  5   3   3   5   9  15\n",
    "   -2   0   2   4   6\n",
    "      2   2   2   2\n",
    "        0   0   0\n",
    "\"\"\"\n",
    "None"
   ]
  }
 ],
 "metadata": {
  "kernelspec": {
   "display_name": "Python 3 (ipykernel)",
   "language": "python",
   "name": "python3"
  },
  "language_info": {
   "codemirror_mode": {
    "name": "ipython",
    "version": 3
   },
   "file_extension": ".py",
   "mimetype": "text/x-python",
   "name": "python",
   "nbconvert_exporter": "python",
   "pygments_lexer": "ipython3",
   "version": "3.12.1"
  }
 },
 "nbformat": 4,
 "nbformat_minor": 5
}
