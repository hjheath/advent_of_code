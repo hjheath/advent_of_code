{
 "cells": [
  {
   "cell_type": "code",
   "execution_count": 27,
   "id": "96ef21ad-4ec2-448a-b550-efd0ff76f986",
   "metadata": {},
   "outputs": [
    {
     "data": {
      "text/plain": [
       "22674"
      ]
     },
     "execution_count": 27,
     "metadata": {},
     "output_type": "execute_result"
    }
   ],
   "source": [
    "import re\n",
    "\n",
    "file_path = 'day_4_input.txt'\n",
    "with open(file_path, 'r') as file:\n",
    "    input = [line.strip() for line in file]\n",
    "\n",
    "scores = []\n",
    "\n",
    "for line in input:\n",
    "    _, numbers, winners = re.split(r'[|:]', line)\n",
    "    numbers = set(int(num) for num in numbers.split())\n",
    "    winners = set(int(num) for num in winners.split())\n",
    "    intersection_length = len(numbers.intersection(winners))\n",
    "    if intersection_length:\n",
    "        score = 2 ** (intersection_length - 1)\n",
    "        scores.append(score)\n",
    "\n",
    "sum(scores)"
   ]
  },
  {
   "cell_type": "code",
   "execution_count": 49,
   "id": "a1940848-23ce-46b8-ab67-113246943a46",
   "metadata": {},
   "outputs": [
    {
     "data": {
      "text/plain": [
       "5747443"
      ]
     },
     "execution_count": 49,
     "metadata": {},
     "output_type": "execute_result"
    }
   ],
   "source": [
    "test = \"\"\"\n",
    "Card 1: 41 48 83 86 17 | 83 86  6 31 17  9 48 53\n",
    "Card 2: 13 32 20 16 61 | 61 30 68 82 17 32 24 19\n",
    "Card 3:  1 21 53 59 44 | 69 82 63 72 16 21 14  1\n",
    "Card 4: 41 92 73 84 69 | 59 84 76 51 58  5 54 83\n",
    "Card 5: 87 83 26 28 32 | 88 30 70 12 93 22 82 36\n",
    "Card 6: 31 18 13 56 72 | 74 77 10 23 35 67 36 11\n",
    "\"\"\"\n",
    "\n",
    "# input = test.strip().splitlines()\n",
    "\n",
    "import re\n",
    "\n",
    "file_path = 'day_4_input.txt'\n",
    "with open(file_path, 'r') as file:\n",
    "    input = [line.strip() for line in file]\n",
    "\n",
    "\n",
    "scratchies = {i: 1 for i, line in enumerate(input, 1)}\n",
    "\n",
    "def parse(line):\n",
    "    _, numbers, winners = re.split(r'[|:]', line)\n",
    "    numbers = set(int(num) for num in numbers.split())\n",
    "    winners = set(int(num) for num in winners.split())\n",
    "    return numbers, winners\n",
    "\n",
    "def calculate_score(numbers, winners):\n",
    "    return len(numbers.intersection(winners))\n",
    "\n",
    "for i, line in enumerate(input, 1):\n",
    "    numbers, winners = parse(line)\n",
    "    score = calculate_score(numbers, winners)\n",
    "    for j in range(1, score + 1):\n",
    "        scratchies[i + j] += scratchies[i]\n",
    "    \n",
    "sum(scratchies.values())"
   ]
  }
 ],
 "metadata": {
  "kernelspec": {
   "display_name": "Python 3 (ipykernel)",
   "language": "python",
   "name": "python3"
  },
  "language_info": {
   "codemirror_mode": {
    "name": "ipython",
    "version": 3
   },
   "file_extension": ".py",
   "mimetype": "text/x-python",
   "name": "python",
   "nbconvert_exporter": "python",
   "pygments_lexer": "ipython3",
   "version": "3.12.1"
  }
 },
 "nbformat": 4,
 "nbformat_minor": 5
}
