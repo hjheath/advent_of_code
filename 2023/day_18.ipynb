{
 "cells": [
  {
   "cell_type": "code",
   "execution_count": 23,
   "id": "9201f6f7-9e7a-4395-a6dd-5a3a8679e217",
   "metadata": {},
   "outputs": [
    {
     "data": {
      "text/plain": [
       "92758"
      ]
     },
     "execution_count": 23,
     "metadata": {},
     "output_type": "execute_result"
    }
   ],
   "source": [
    "test = \"\"\"\n",
    "R 6 (#70c710)\n",
    "D 5 (#0dc571)\n",
    "L 2 (#5713f0)\n",
    "D 2 (#d2c081)\n",
    "R 2 (#59c680)\n",
    "D 2 (#411b91)\n",
    "L 5 (#8ceee2)\n",
    "U 2 (#caa173)\n",
    "L 1 (#1b58a2)\n",
    "U 2 (#caa171)\n",
    "R 2 (#7807d2)\n",
    "U 3 (#a77fa3)\n",
    "L 2 (#015232)\n",
    "U 2 (#7a21e3)\n",
    "\"\"\"\n",
    "\n",
    "def calculate_enclosed_area(coordinates):\n",
    "    # Ensure that the list of coordinates is closed (ends at the starting point)\n",
    "    if coordinates[0] != coordinates[-1]:\n",
    "        coordinates.append(coordinates[0])\n",
    "\n",
    "    # Calculate the area using the Shoelace formula\n",
    "    area = 0\n",
    "    n = len(coordinates)\n",
    "\n",
    "    for i in range(n - 1):\n",
    "        area += (coordinates[i][0] * coordinates[i + 1][1]) - (coordinates[i + 1][0] * coordinates[i][1])\n",
    "\n",
    "    area = abs(area) / 2\n",
    "\n",
    "    return area\n",
    "\n",
    "# data = test.strip().splitlines()\n",
    "\n",
    "file_path = 'day_18_input.txt'\n",
    "with open(file_path, 'r') as file:\n",
    "    data = [line.strip() for line in file]\n",
    "\n",
    "direction_map = {\n",
    "    'U': (0, -1),\n",
    "    'D': (0, 1),\n",
    "    'L': (-1, 0),\n",
    "    'R': (1, 0)\n",
    "}\n",
    "\n",
    "x, y = (0, 0)\n",
    "coords = [(0, 0)]\n",
    "perimeter = 0\n",
    "\n",
    "for instruction in data:\n",
    "    direction, distance, _ = instruction.split(' ')\n",
    "    distance = int(distance)\n",
    "    perimeter += distance\n",
    "    dx, dy  = direction_map[direction]\n",
    "    x, y = x + distance * dx, y + distance * dy\n",
    "    coords.append((x, y))\n",
    "\n",
    "enclosed_area = calculate_enclosed_area(list(coords))\n",
    "int(enclosed_area + (perimeter / 2) + 1)"
   ]
  },
  {
   "cell_type": "code",
   "execution_count": 27,
   "id": "318b20b6-0c17-43e5-9f4c-14594eb80323",
   "metadata": {},
   "outputs": [
    {
     "data": {
      "text/plain": [
       "62762509300678"
      ]
     },
     "execution_count": 27,
     "metadata": {},
     "output_type": "execute_result"
    }
   ],
   "source": [
    "# data = test.strip().splitlines()\n",
    "\n",
    "file_path = 'day_18_input.txt'\n",
    "with open(file_path, 'r') as file:\n",
    "    data = [line.strip() for line in file]\n",
    "\n",
    "direction_map = {\n",
    "    '3': (0, -1),\n",
    "    '1': (0, 1),\n",
    "    '2': (-1, 0),\n",
    "    '0': (1, 0)\n",
    "}\n",
    "\n",
    "x, y = (0, 0)\n",
    "coords = [(0, 0)]\n",
    "perimeter = 0\n",
    "\n",
    "for instruction in data:\n",
    "    _, _, hex_code = instruction.split(' ')\n",
    "    hex_code = hex_code.strip('()#')\n",
    "    distance = int(hex_code[0:5], 16)\n",
    "    direction = hex_code[-1]\n",
    "    perimeter += distance\n",
    "    dx, dy  = direction_map[direction]\n",
    "    x, y = x + distance * dx, y + distance * dy\n",
    "    coords.append((x, y))\n",
    "\n",
    "enclosed_area = calculate_enclosed_area(list(coords))\n",
    "int(enclosed_area + (perimeter / 2) + 1)"
   ]
  },
  {
   "cell_type": "code",
   "execution_count": null,
   "id": "24742075-4cfa-40e6-ba60-547bdf146b44",
   "metadata": {},
   "outputs": [],
   "source": []
  }
 ],
 "metadata": {
  "kernelspec": {
   "display_name": "Python 3 (ipykernel)",
   "language": "python",
   "name": "python3"
  },
  "language_info": {
   "codemirror_mode": {
    "name": "ipython",
    "version": 3
   },
   "file_extension": ".py",
   "mimetype": "text/x-python",
   "name": "python",
   "nbconvert_exporter": "python",
   "pygments_lexer": "ipython3",
   "version": "3.12.1"
  }
 },
 "nbformat": 4,
 "nbformat_minor": 5
}
